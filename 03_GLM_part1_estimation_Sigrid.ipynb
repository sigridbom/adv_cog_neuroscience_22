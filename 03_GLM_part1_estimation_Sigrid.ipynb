{
 "cells": [
  {
   "cell_type": "markdown",
   "metadata": {},
   "source": [
    "This tutorial is based on the textbook here: https://lukas-snoek.com/NI-edu/fMRI-introduction/week_2/glm_part1_estimation.html"
   ]
  },
  {
   "cell_type": "markdown",
   "metadata": {},
   "source": [
    "# The GLM, part 1: estimation - SIGRID\n",
    "This tutorial will be all about how most univariate fMRI analyses are done: using the **GLM**. Specifically, we'll focus on the \"estimation\" part of the GLM (i.e., how do we estimate parameters?).\n",
    "\n",
    "The GLM, or the General Linear Model, is a statistical model that underlies a range of statistical models that you're probably already familiar with: (M)ANOVA, *t*-test, *F*-test, and most importantly ordinary *linear regression*. Mathematically, all these different tests are specific instantiations of the GLM (check [this blog post](https://lindeloev.github.io/tests-as-linear/) if you want to know more about this equivalence).\n",
    "\n",
    "Basically, the type of fMRI analysis you are going to learn in this course (often called 'univariate analysis' or 'Statistical Parametric Mapping') is just an linear regression model applied to time-series data. Given that you have some basic familiarity with these concepts (we which recap in section 1), you will see during this tutorial that univariate fMRI analyses using the GLM are actually very straightforward.\n",
    "\n",
    "As a consequence of the importance of the GLM, this week's lab is probably going to take quite long again. So, you'll have to work hard this week, but it'll definitely pay off. Also, the material will seem quite mathematical, but it often serves a symbolic purpose: to show you how results are influenced by different parts of the formulas within the GLM. Moreover, after showing and explaining you the formulas, we'll work it out in code examples (which are often easier to understand!). Also, after explaining a certain aspect of the GLM, we'll ask you to think about it and practice with it in ToThink and ToDo questions (like last week).\n",
    "\n",
    "**What you'll learn**: after this tutorial ... \n",
    "* you know how to estimate and interpret parameters in a GLM and evaluate its model fit;\n",
    "* you understand the importance of incorporating knowledge from the BOLD-response in the GLM;\n",
    "* you are able to implement and apply the GLM to (univariate) fMRI data;\n",
    " <br>"
   ]
  },
  {
   "cell_type": "markdown",
   "metadata": {},
   "source": [
    "## Recap of linear regression\n",
    "To refresh your memory on linear regression, we'll walk you through a recap of the technique's most important concepts.\n",
    "We are going to work through a simple example. \n",
    "\n",
    "In the code below, `y` will denote our *dependent variable* (the variable we try to model/explain) and `X` will denote our *independent variable(s)* (the variables we're using to try to explain `y`). Throughout the entire tutorial will use `X` to refer to our matrix of independent variables (also called \"predictors\" or \"regressors\", or simply \"design matrix\") and use `y` to refer to our dependent variable (also sometimes called \"target\").\n",
    "\n",
    "Moreover, the independent variables are often grouped in a single matrix (a 2D array) &mdash; which is sometimes called the \"design matrix\" (because it 'designs' the way we want to model our dependent variable). As stated before, in this tutorial we store our design matrix - the set of our independent variables - in the variable `X` (or slight variations on that, like `X_new` or something). Importantly, it is often assumed (e.g. by statistics functions/software) that the design matrix takes the shape of $N\\ \\mathrm{(observations)} \\times P\\ \\mathrm{(predictors)}$. So, the rows refer to the sampled observations (also often called \"samples\", \"instances\", or simply \"data points\"). The columns refer to the separate independent variables that we use to model the dependent variable. For the dependent variable, it is often assumed that this is a single row-vector of shape $N \\times 1$.\n",
    "\n",
    "### Notation\n",
    "Next, let's define some more conventions in notation. We will denote the total number of observations with **$N$**. Moreover, we'll denote **$i$** as the index of samples. To give an example, the formula below gives you the sum of our target variable:\n",
    "\n",
    "\\begin{align}\n",
    "\\mathrm{sum}(\\mathbf{y}) = \\sum_{i=1}^{N} y_{i} \n",
    "\\end{align}\n",
    "\n",
    "Lastly, we denote the total number of predictors **$P$** and  **$j$** as the index of our predictors. So, for example, if we wanted to sum over our predictors for a given sample **$i$**, we'd write: \n",
    "\n",
    "\\begin{align}\n",
    "\\mathrm{sum}(\\mathbf{X}_{i}) = \\sum_{j=1}^{P} \\mathbf{X}_{ij} \n",
    "\\end{align}\n",
    "\n",
    "To practice with this notation, let's do a ToDo!"
   ]
  },
  {
   "cell_type": "code",
   "execution_count": 1,
   "metadata": {},
   "outputs": [
    {
     "name": "stdout",
     "output_type": "stream",
     "text": [
      "Defaulting to user installation because normal site-packages is not writeable\n",
      "Requirement already satisfied: numpy in /home/coder/.local/lib/python3.9/site-packages (1.23.0)\n",
      "\n",
      "[notice] A new release of pip available: 22.1.2 -> 22.2.2\n",
      "[notice] To update, run: pip install --upgrade pip\n",
      "Defaulting to user installation because normal site-packages is not writeable\n",
      "Requirement already satisfied: matplotlib in /home/coder/.local/lib/python3.9/site-packages (3.5.2)\n",
      "Requirement already satisfied: cycler>=0.10 in /home/coder/.local/lib/python3.9/site-packages (from matplotlib) (0.11.0)\n",
      "Requirement already satisfied: fonttools>=4.22.0 in /home/coder/.local/lib/python3.9/site-packages (from matplotlib) (4.34.1)\n",
      "Requirement already satisfied: python-dateutil>=2.7 in /home/coder/.local/lib/python3.9/site-packages (from matplotlib) (2.8.2)\n",
      "Requirement already satisfied: pyparsing>=2.2.1 in /home/coder/.local/lib/python3.9/site-packages (from matplotlib) (3.0.9)\n",
      "Requirement already satisfied: packaging>=20.0 in /home/coder/.local/lib/python3.9/site-packages (from matplotlib) (21.3)\n",
      "Requirement already satisfied: kiwisolver>=1.0.1 in /home/coder/.local/lib/python3.9/site-packages (from matplotlib) (1.4.3)\n",
      "Requirement already satisfied: pillow>=6.2.0 in /home/coder/.local/lib/python3.9/site-packages (from matplotlib) (9.2.0)\n",
      "Requirement already satisfied: numpy>=1.17 in /home/coder/.local/lib/python3.9/site-packages (from matplotlib) (1.23.0)\n",
      "Requirement already satisfied: six>=1.5 in /home/coder/.local/lib/python3.9/site-packages (from python-dateutil>=2.7->matplotlib) (1.16.0)\n",
      "\n",
      "[notice] A new release of pip available: 22.1.2 -> 22.2.2\n",
      "[notice] To update, run: pip install --upgrade pip\n"
     ]
    }
   ],
   "source": [
    "# First some imports\n",
    "# importing modules\n",
    "import os\n",
    "import pip\n",
    "os.system('python3 -m pip install numpy')\n",
    "os.system('python3 -m pip install matplotlib')\n",
    "\n",
    "import numpy as np\n",
    "import matplotlib.pyplot as plt\n",
    "%matplotlib inline"
   ]
  },
  {
   "cell_type": "markdown",
   "metadata": {},
   "source": [
    "<div class='alert alert-warning'>\n",
    "    <b>ToDo1</b>:\n",
    "Try to see if you can do the following (solutions at the end of the notebook): \n",
    "\n",
    "1) Create a variable <tt>arr</tt> below (an array of shape $100 \\times 25$), \n",
    "\n",
    "2) calculate the mean over all samples ($N$) for the predictor at index $j = 4$ (i.e., the fourth predictor). \n",
    "\n",
    "3) Store the result in a variable named <tt>mean_predictor_4</tt>.\n",
    "\n",
    "How could it be done? Remember: Python has 0-based indexing!\n",
    "</div>"
   ]
  },
  {
   "cell_type": "code",
   "execution_count": 2,
   "metadata": {},
   "outputs": [
    {
     "name": "stdout",
     "output_type": "stream",
     "text": [
      "0.08591373616660723\n"
     ]
    }
   ],
   "source": [
    "\"\"\" Implement the ToDo1 below. \"\"\"\n",
    "\n",
    "np.random.seed(42)\n",
    "arr = np.random.normal(0, 1, size=(100, 25))\n",
    "# Implement your ToDo here\n",
    "\n",
    "mean_predictor_4 = arr[:,3].mean()\n",
    "print(mean_predictor_4)"
   ]
  },
  {
   "cell_type": "markdown",
   "metadata": {},
   "source": [
    "### Regression\n",
    "\n",
    "Now, let's look at an example. Throughout the example below, we will gradually explain the components of linear regression. For the example, we will use randomly generated data to create a dependent variable with 30 observations (\"samples\"; $N = 30$) and a single independent variable ($P = 1$) with, of course, also 30 observations. So both the independent and dependent variable are of shape $30 \\times 1$. Alright, let's get started!\n",
    "\n",
    "For our example let's create some randomly generated data. As discussed, we'll create two variables (of shape $30\\times 1$), which have a prespecified correlation of 0.8 (normally, you don't know this before doing the analysis of course, but we specify it here for the sake of the example). \n",
    "\n",
    "We'll denote our independent variable `X` and our dependent variable `y`."
   ]
  },
  {
   "cell_type": "code",
   "execution_count": 3,
   "metadata": {},
   "outputs": [
    {
     "name": "stdout",
     "output_type": "stream",
     "text": [
      "The shape of X is: (30, 1)\n",
      "The shape of y is: (30, 1)\n"
     ]
    }
   ],
   "source": [
    "np.random.seed(1)\n",
    "\n",
    "#Create a covariance matrix for the two variables. The off-diagonals specify the covariance between variables (0.8)\n",
    "prespecified_covariance = np.array([[1, .8],\n",
    "                                    [.8, 1]])\n",
    "\n",
    "#Create normally distributed data with the specified covariance\n",
    "data = np.random.multivariate_normal(mean=[3, 7], cov=prespecified_covariance, size=30)\n",
    "\n",
    "\"\"\" By default, when you slice out a single column (or row), numpy returns\n",
    "an array of shape (some_number,) instead of (some_number, 1). However, for our\n",
    "examples, we often actually want shape (some_number, 1) so essentially we want to \n",
    "\"add\" an extra axis. This is done by the np.newaxis command. Mess around with\n",
    "it yourself to see how it works! \"\"\"\n",
    "\n",
    "X = data[:, 0, np.newaxis] # Here, we slice the first column (0) and immediately add a new axis!\n",
    "y = data[:, 1, np.newaxis] # same here\n",
    "\n",
    "print('The shape of X is: %s' % (X.shape,))\n",
    "print('The shape of y is: %s' % (y.shape,))"
   ]
  },
  {
   "cell_type": "markdown",
   "metadata": {},
   "source": [
    "Let's have a look at the data."
   ]
  },
  {
   "cell_type": "code",
   "execution_count": 4,
   "metadata": {},
   "outputs": [
    {
     "data": {
      "image/png": "[encoded data removed]",
      "text/plain": [
       "<Figure size 1296x216 with 1 Axes>"
      ]
     },
     "metadata": {
      "needs_background": "light"
     },
     "output_type": "display_data"
    }
   ],
   "source": [
    "plt.figure(figsize=(18, 3))\n",
    "plt.plot(X, 'o-', ms=4)\n",
    "plt.plot(y, 'o-', ms=4)\n",
    "plt.xlim(-1, data.size)\n",
    "plt.ylim(0, 12)\n",
    "plt.xlim(0, 30)\n",
    "plt.ylabel('Data value', fontsize=15)\n",
    "plt.xlabel('Data point', fontsize=15)\n",
    "plt.legend(['X', 'y'], fontsize=15, loc='upper right', frameon=True)\n",
    "plt.show()"
   ]
  },
  {
   "cell_type": "markdown",
   "metadata": {},
   "source": [
    "The variable y will be our dependent variable and X will be our independent variable (a.k.a. predictor variable). The independent variable forms part of the design matrix (also called X), which we will use to predict the dependent variable."
   ]
  },
  {
   "cell_type": "markdown",
   "metadata": {},
   "source": [
    "### Modeling the intercept (offset)\n",
    "As you probably were told in your previous statistics classes, you should always \"model the intercept\" when running any (regression) model. Technically, the intercept models some of the signal using a constant term. The parameter corresponding to the intercept (as calculated by the linear regression model), then, refers to *the average value of your $y$ variable when all predictors in $X$ are 0*. So, conceptually, the intercept models the mean when of the dependent variable when controlling for our (other) predictors.\n",
    "\n",
    "To \"model the intercept\", you should add an extra \"constant predictor\" to your design matrix (`X`). This \"constant predictor\" means simply an array of shape $N \\times 1$ with a constant value, usually all ones. (You'll figure out *why* you should do this later in the tutorial.)\n",
    "\n",
    "Remember from week 1 how to create an array with ones? We can just use `np.ones(shape_of_desired_array)`!"
   ]
  },
  {
   "cell_type": "code",
   "execution_count": 5,
   "metadata": {},
   "outputs": [],
   "source": [
    "n_obs = y.size\n",
    "intercept = np.ones((n_obs, 1))  # creates intercept of shape (N, 1)"
   ]
  },
  {
   "cell_type": "markdown",
   "metadata": {},
   "source": [
    "Now, we want to add it to our design matrix (`X`). We can do this using the numpy function `np.hstack` (which is short for \"horizontal stack\", i.e. \"stacking columns horizontally\"). This function takes a tuple with arrays which show have the same amount of rows (for our data: both have 30 rows) and returns the a new array in which the arrays from the tuple are stacked (stacked shape should be $30 \\times 2$):"
   ]
  },
  {
   "cell_type": "code",
   "execution_count": 6,
   "metadata": {},
   "outputs": [
    {
     "name": "stdout",
     "output_type": "stream",
     "text": [
      "Shape of X is now: (30, 2)\n"
     ]
    }
   ],
   "source": [
    "tuple_with_arrays = (intercept, X)\n",
    "X_with_icept = np.hstack(tuple_with_arrays)\n",
    "\n",
    "# Note: you could also simply do ...\n",
    "# X_with_icept = np.hstack((np.ones((y.size, 1)), X))\n",
    "# ... but arguably this is less 'readable' than the implementation above\n",
    "print(\"Shape of X is now: %s\" % (X_with_icept.shape,))"
   ]
  },
  {
   "cell_type": "markdown",
   "metadata": {},
   "source": [
    "Let's take a look at the X matrix (\"design matrix\") we have now. As you'll see, we have two columns: the first one is our intercept-predictor, and the second one is our 'regular' predictor."
   ]
  },
  {
   "cell_type": "code",
   "execution_count": 7,
   "metadata": {},
   "outputs": [
    {
     "name": "stdout",
     "output_type": "stream",
     "text": [
      "[[1.         1.65246505]\n",
      " [1.         3.84037019]\n",
      " [1.         2.90681268]\n",
      " [1.         1.58544098]\n",
      " [1.         2.77619077]\n",
      " [1.         2.26439631]\n",
      " [1.         3.42732047]\n",
      " [1.         2.27222802]\n",
      " [1.         3.44118297]\n",
      " [1.         2.77565017]\n",
      " [1.         3.68214561]\n",
      " [1.         1.98577328]\n",
      " [1.         2.36158674]\n",
      " [1.         3.41250018]\n",
      " [1.         3.08642782]\n",
      " [1.         3.78163148]\n",
      " [1.         3.91918676]\n",
      " [1.         3.64080489]\n",
      " [1.         3.98584491]\n",
      " [1.         1.19071843]\n",
      " [1.         3.46268411]\n",
      " [1.         3.17361546]\n",
      " [1.         3.15323524]\n",
      " [1.         2.15472268]\n",
      " [1.         2.69083045]\n",
      " [1.         2.82662461]\n",
      " [1.         4.1943598 ]\n",
      " [1.         3.01266793]\n",
      " [1.         1.90963012]\n",
      " [1.         2.44916186]]\n"
     ]
    }
   ],
   "source": [
    "print(X_with_icept)"
   ]
  },
  {
   "cell_type": "markdown",
   "metadata": {},
   "source": [
    "Now, let's take a look at the data. We'll create a scatter-plot for this (we'll leave out the intercept).  Note how correlated the two variables are."
   ]
  },
  {
   "cell_type": "code",
   "execution_count": 8,
   "metadata": {},
   "outputs": [
    {
     "data": {
      "image/png": "[encoded data removed]",
      "text/plain": [
       "<Figure size 720x720 with 1 Axes>"
      ]
     },
     "metadata": {
      "needs_background": "light"
     },
     "output_type": "display_data"
    }
   ],
   "source": [
    "plt.figure(figsize=(10, 10))\n",
    "plt.scatter(X_with_icept[:, 1], y)\n",
    "plt.xlabel('X', fontsize=25)\n",
    "plt.ylabel('y', fontsize=25)\n",
    "plt.xlim((0, 5))\n",
    "plt.ylim((0, 10))\n",
    "plt.show()"
   ]
  },
  {
   "cell_type": "markdown",
   "metadata": {},
   "source": [
    "### Parameters in linear regression\n",
    "As you can see, there seems to be some positive linear relationship between $X$ (just the independent variable without the intercept) and $y$. In other words, an increase in $X$ will lead to an increase in $y$. But, at this moment, *how much exactly* $y$ changes for a increase in $X$ is unknown. By doing a linear regression with $X$ as our predictor of $y$, we can quantify this! \n",
    "\n",
    "The parameter, i.e. the \"thing\" that quantifies the influence of $X$ on $y$, calculated by this model is often called the **beta-parameter(s)** (but sometimes they're denoted as theta, or any other greek symbol/letter). The beta-parameter quantifies exactly how much $y$ changes if you increase $X$ by 1. Or, in other words, it quantifies how much influence $X$ has on $y$. In a formula ($\\delta$ stands for \"change in\")\\*: \n",
    "\n",
    "\\begin{align}\n",
    "\\beta_{j} = \\frac{\\delta y}{\\delta X_{j}} \n",
    "\\end{align}\n",
    "\n",
    "As you probably realize, each predictor in $X$ (i.e., $X_{j}$) has a parameter ($\\beta_{j}$) that quantifies how much influence that predictor has on our target variable ($y$). This includes the intercept, our vector of ones (which is in textbooks often denoted by $\\beta_{0}$; they often don't write out $\\beta_{0}X_{0}$ because, if a vector of ones is used, $\\beta_{0}\\cdot 1$ simplifies to $\\beta_{0}$).\n",
    "\n",
    "Thus, linear regression describes a model in which a set of beta-parameters are calculated to characterize the influence of each predictor in $X$ on $y$, that together explain $y$ as well as possible (but the model is usually not perfect, so there will be some *error*, or \"unexplained variance\", denoted by $\\epsilon$). As such, we can formulate the linear regression model as follows:\n",
    "\n",
    "\\begin{align}\n",
    "y = \\beta_{0} + X_{1}\\beta_{1} + X_{2}\\beta_{2} ... + X_{P}\\beta_{P} + \\epsilon\n",
    "\\end{align}\n",
    "\n",
    "which is often written out as (and is equivalent to the formula above):\n",
    "\n",
    "\\begin{align}\n",
    "y = \\sum_{j=1}^{P}X_{j}\\beta_{j} + \\epsilon\n",
    "\\end{align}\n",
    "\n",
    "Here, $\\epsilon$ is the variance of $y$ that cannot be explained by our predictors (i.e, the *error*). "
   ]
  },
  {
   "cell_type": "markdown",
   "metadata": {},
   "source": [
    "But how does linear regression estimate the beta-parameters? The method most often used is called **'ordinary least squares'** (OLS; or just 'least squares'). This method tries to find a \"weight(s)\" for the independent variable(s) such that when you multiply the weight(s) with the independent variable(s), it produces an estimate of $y$ (often denoted as $\\hat{y}$, or \"y-hat\") that is as 'close' to the true $y$ as possible. In other words, least squares tries to 'choose' the beta-parameter(s) ($\\hat{\\beta}$) such that the difference between $X$ multiplied with the beta(s) (i.e. our best guess of $y$, denoted as $\\hat{y}$) and the true $y$ is minimized\\*. \n",
    "\n",
    "Let's just formalize this formula for the 'best estimate of $y$' (i.e. $\\hat{y}$):\n",
    "\n",
    "\\begin{align}\n",
    "\\hat{y}_{i} = \\sum_{j=1}^{P}X_{ij}\\hat{\\beta}_{j} \n",
    "\\end{align}"
   ]
  },
  {
   "cell_type": "markdown",
   "metadata": {},
   "source": [
    "Before we're going into the estimation of these beta-parameters, let's practice with calculating $\\hat{y}$!"
   ]
  },
  {
   "cell_type": "markdown",
   "metadata": {},
   "source": [
    "<div class='alert alert-warning'>\n",
    "    <b>ToDo2</b>: Below, we've defined a design matrix with two predictors (<tt>this_X</tt>) and an array with beta-estimates (<tt>these_betas</tt>; just pretend that these betas were estimated by us beforehand). Now, given this data, can you calculate the predicted $y$-values (i.e., $\\hat{y}$)? Store these predicted $y$-values in an array named <tt>this_y_hat</tt>.\n",
    "\n",
    "Hint: your <tt>this_y_hat</tt> array should be of shape <tt>(100,)</tt>.\n",
    "</div>"
   ]
  },
  {
   "cell_type": "code",
   "execution_count": 9,
   "metadata": {
    "nbgrader": {
     "grade": false,
     "grade_id": "cell-2198797049cfec1b",
     "locked": false,
     "schema_version": 3,
     "solution": true
    }
   },
   "outputs": [
    {
     "name": "stdout",
     "output_type": "stream",
     "text": [
      "[ -0.01338524   1.6703706    2.21587559  10.21759739   6.73838803\n",
      "  -8.73396662   3.42869211  -4.48842891   0.95290386   3.43650722\n",
      "  -1.71391492   2.1629619    1.34852454  -2.22062007   3.99755808\n",
      "   6.55005865  -3.79261597   2.34949198  -1.58847781  -1.00590812\n",
      "   1.43788029   3.79819378  -4.96641193   0.84168045  -1.23324889\n",
      "  -5.92010843   1.65225542  -2.18412034  -5.04079461   6.83379015\n",
      "  -2.44856964  12.2700849   -5.58141723   9.15228886  -3.40630421\n",
      "  -2.71636339  -4.49867819   2.09344214  -0.83014248   4.14900705\n",
      "  -1.23808648   6.5956657    3.06043025   2.24424643   3.21012702\n",
      "  -8.85509716  11.75506195   1.90635652  -1.03938628  -3.27900914\n",
      "  -5.57655277   0.35407235   1.95194714   5.57227764   5.26441588\n",
      "  -0.53012277  11.8957242   -0.46059776   5.79536197   2.4409444\n",
      "  -5.42215061   6.39560171  -2.40432132   3.53601676   1.18398727\n",
      "   6.910171    12.85646364  -1.58706604   4.27244301   7.18808465\n",
      "   0.4676259    3.05310707 -11.94182401 -10.92527308   0.27265972\n",
      "  -5.66052486   3.81234307  -3.5567501    1.81194083   7.42500474\n",
      "   9.59297064   8.12223579   1.24938396  -3.32538443  -4.11217587\n",
      "   1.81883774   8.68157606  -4.30168507  -7.90885419  -5.89588956\n",
      "  -3.42402275  -4.19931869  -2.28244723   1.76317986   5.1354938\n",
      "  -2.41745528  -8.15283856  -1.30210807  12.01285321   0.32663551]\n"
     ]
    }
   ],
   "source": [
    "# Just generate some random normal data with mean 0, std 1, and shape 100x2 (NxP)\n",
    "this_X = np.random.normal(0, 1, (100, 2))\n",
    "these_betas = np.array([5, 3])\n",
    "\n",
    "#IMPLEMENT YOUR SOLUTION HERE (if you get stuck, look at the end of the notebook):\n",
    "\n",
    "this_y_hat = this_X @ these_betas \n",
    "print(this_y_hat)\n"
   ]
  },
  {
   "cell_type": "markdown",
   "metadata": {},
   "source": [
    "### Refresher: matrix multiplication\n",
    "In the GLM (and statistics in general), you'll very likely come across concepts and operations from linear (matrix) algebra, such as matrix multiplication and the matrix inverse. In week 1, we briefly discussed how matrix/vector multiplication can be done with Python/numpy: using the `.dot` numpy attribute or with the `@` operator. In this course, you'll encounter several matrix operations as part of the GLM. In fact, we can implement the operation from the previous ToDo (calculating $\\hat{y}$) using matrix multiplication as well.\n",
    "\n",
    "See the figure below for a visual explanation of matrix multiplication:\n",
    "![dot_prod](https://hadrienj.github.io/assets/images/2.2/dot-product.png)\n",
    "*Image by Hadrien Jean ([link](https://hadrienj.github.io/assets/images/2.2/dot-product.png))*\n",
    "\n",
    "If your understanding of matrix algebra, and especially matrix multiplication, is still somewhat rusty, check out [this video](https://www.youtube.com/watch?v=fkZj8QoYjq8) by Jeanette Mumford. Now, suppose that the left matrix in the above figure represents our matrix $\\mathbf{X}$ and that the right vector represents our estimated parameters $\\hat{\\beta}$. Now, we can calculate $\\hat{y}$ as the matrix operator $X\\hat{\\beta}$:\n",
    "\n",
    "\\begin{align}\n",
    "\\hat{y} = \n",
    "  \\begin{bmatrix}\n",
    "    X_{1,1} & X_{1,2} \\\\\n",
    "    X_{2, 1} & X_{2, 2} \\\\\n",
    "    \\vdots & \\vdots \\\\\n",
    "    X_{N, 1} & X_{N, 2}\n",
    "  \\end{bmatrix} \n",
    "  \\begin{bmatrix}\n",
    "    \\hat{\\beta}_{1} \\\\\n",
    "    \\hat{\\beta}_{2}\n",
    "  \\end{bmatrix}\n",
    "\\end{align}\n",
    "\n",
    "Let's check this in code:"
   ]
  },
  {
   "cell_type": "code",
   "execution_count": 10,
   "metadata": {},
   "outputs": [
    {
     "name": "stdout",
     "output_type": "stream",
     "text": [
      "[ -0.01338524   1.6703706    2.21587559  10.21759739   6.73838803\n",
      "  -8.73396662   3.42869211  -4.48842891   0.95290386   3.43650722\n",
      "  -1.71391492   2.1629619    1.34852454  -2.22062007   3.99755808\n",
      "   6.55005865  -3.79261597   2.34949198  -1.58847781  -1.00590812\n",
      "   1.43788029   3.79819378  -4.96641193   0.84168045  -1.23324889\n",
      "  -5.92010843   1.65225542  -2.18412034  -5.04079461   6.83379015\n",
      "  -2.44856964  12.2700849   -5.58141723   9.15228886  -3.40630421\n",
      "  -2.71636339  -4.49867819   2.09344214  -0.83014248   4.14900705\n",
      "  -1.23808648   6.5956657    3.06043025   2.24424643   3.21012702\n",
      "  -8.85509716  11.75506195   1.90635652  -1.03938628  -3.27900914\n",
      "  -5.57655277   0.35407235   1.95194714   5.57227764   5.26441588\n",
      "  -0.53012277  11.8957242   -0.46059776   5.79536197   2.4409444\n",
      "  -5.42215061   6.39560171  -2.40432132   3.53601676   1.18398727\n",
      "   6.910171    12.85646364  -1.58706604   4.27244301   7.18808465\n",
      "   0.4676259    3.05310707 -11.94182401 -10.92527308   0.27265972\n",
      "  -5.66052486   3.81234307  -3.5567501    1.81194083   7.42500474\n",
      "   9.59297064   8.12223579   1.24938396  -3.32538443  -4.11217587\n",
      "   1.81883774   8.68157606  -4.30168507  -7.90885419  -5.89588956\n",
      "  -3.42402275  -4.19931869  -2.28244723   1.76317986   5.1354938\n",
      "  -2.41745528  -8.15283856  -1.30210807  12.01285321   0.32663551]\n"
     ]
    }
   ],
   "source": [
    "this_y_hat_dot = this_X @ these_betas  # this_X.dot(these_betas) is also correct\n",
    "print(this_y_hat_dot)"
   ]
  },
  {
   "cell_type": "markdown",
   "metadata": {},
   "source": [
    "In other words, the non-matrix algebra notation ...\n",
    "\n",
    "\\begin{align}\n",
    "\\hat{y}_{i} = \\sum_{j=1}^{P}X_{ij}\\hat{\\beta}_{j} \n",
    "\\end{align}\n",
    "\n",
    "... is exactly the same as the the following matrix algebra notation:\n",
    "\n",
    "\\begin{align}\n",
    "\\hat{y}_{i} = \\mathbf{X}_{i}\\mathbf{\\hat{\\beta}} \n",
    "\\end{align}\n",
    "\n",
    "You can usually recognize the implementations in formulas using algebra by the use of bold variables (such as $\\mathbf{X}$, which denote matrices) here above.\n",
    "\n",
    "*You will calculate `y_hat` quite a lot throughout this lab; please use the matrix algebra method to calculate `y_hat`, because this will likely prevent errors in the future!* So, use this ...\n",
    "\n",
    "```python\n",
    "y_hat = X @ betas\n",
    "```\n",
    "\n",
    "instead of ...\n",
    "\n",
    "```python\n",
    "y_hat = X[:, 0] * betas[0] + X[:, 1] * betas[1]\n",
    "```"
   ]
  },
  {
   "cell_type": "markdown",
   "metadata": {},
   "source": [
    "### Fitting OLS models\n",
    "Thus far, we've ignored how OLS actually calculates (or \"fits\") the unknown parameters $\\beta$. Roughly speaking, OLS finds parameters that minimize the *sum of squared errors* (hence the name '[ordinary] least squares'!):\n",
    "\n",
    "\\begin{align}\n",
    "\\min_{\\beta} \\sum_{i=1}^{N}(y_{i} - X_{i}\\hat{\\beta})^2 \n",
    "\\end{align}\n",
    "\n",
    "This formula basically formalizes the approach of OLS \"find the beta(s) that minimize the difference of my prediction of $y$ (calculated as $X \\cdot \\beta$) and the true $y$\". Now, this still begs the question, *how does OLS estimate these parameters?* It turns out there is an \"analytical solution\" to this problem, i.e., there is a way to compute beta estimates that are guaranteed (given some assumptions) to give the parameters that minimize the summed squared error. This solution involves a little matrix algebra and is usually formulated as a series of matrix operations:\n",
    "\n",
    "\\begin{align}\n",
    "\\hat{\\beta} = (\\mathbf{X}^{T}\\mathbf{X})^{-1}\\mathbf{X}^{T}y\n",
    "\\end{align}\n",
    "\n",
    "(For the mathematically inclined, see [this](https://economictheoryblog.com/2015/02/19/ols_estimator/) or [this](https://socialstatisticsfun.wordpress.com/2012/12/18/deriving-the-ols-estimator-continued/) blog for the derivation of the OLS solution.) In this formula, $\\mathbf{X}^{T}$ refers to the transpose of the design matrix $\\mathbf{X}$.\n",
    "\n",
    "We don't expect you to understand every aspect of this formula, but you should understand the objective of least squares (minimizing the difference between $\\hat{y}$ and true $y$) and what role the beta-parameters play in this process (i.e. a kind of weighting factor of the predictors).\n",
    "\n",
    "Let's look at how we'd implement the OLS solution in code. We'll use the `@` operator for matrix multiplication and the `inv` function from the `numpy.linalg` module for the matrix inversion (i.e., the $(X^{T}X)^{-1}$ part)."
   ]
  },
  {
   "cell_type": "code",
   "execution_count": 11,
   "metadata": {},
   "outputs": [
    {
     "name": "stdout",
     "output_type": "stream",
     "text": [
      "Shape of estimated betas: (2, 1)\n",
      "[[4.25897963]\n",
      " [0.88186203]]\n"
     ]
    }
   ],
   "source": [
    "from numpy.linalg import inv\n",
    "\n",
    "est_betas = inv(X_with_icept.T @ X_with_icept) @ X_with_icept.T @ y\n",
    "\n",
    "print(\"Shape of estimated betas: %s\" % (est_betas.shape,))\n",
    "print(est_betas)"
   ]
  },
  {
   "cell_type": "markdown",
   "metadata": {},
   "source": [
    "\"What? Why are there two beta-parameters?\", you might think. This because you also use the intercept as a predictor, which also has an associated beta-value (weighting factor). Here, the first beta refers to the intercept of the model (because it's the first column in the design-matrix)! The second beta refers to our 'original' predictor. Thus, the model found by least squares for our generated data is (i.e. that leads to our best estimate of $y$, i.e. $\\hat{y}$:\n",
    "\n",
    "\\begin{align}\n",
    "\\hat{y} = X_{1} \\cdot 4.259 + X_{2} \\cdot 0.882 \n",
    "\\end{align}\n",
    "\n",
    "And since our intercept (here $X_{1}$) is a vector of ones, the formula simplifies to:\n",
    "\n",
    "\\begin{align}\n",
    "\\hat{y} = 4.259 + X_{2} \\cdot 0.882\n",
    "\\end{align}\n",
    "\n",
    "Now, let's calculate our predicted value of $y$ ($\\hat{y}$) by implementing the above formula by multiplying our betas with the corresponding predictors (intercept and original predictor). Here, because we have two predictors, we simply add the two \"`predictor * beta`\" terms to get the final $\\hat{y}$."
   ]
  },
  {
   "cell_type": "code",
   "execution_count": 12,
   "metadata": {},
   "outputs": [
    {
     "name": "stdout",
     "output_type": "stream",
     "text": [
      "The predicted y-values are: \n",
      "\n",
      "array([5.7162258 , 7.64565627, 6.82238735, 5.65711982, 6.70719685,\n",
      "       6.25586475, 7.2814034 , 6.26277124, 7.29362822, 6.70672011,\n",
      "       7.50612402, 6.01015768, 6.3415733 , 7.26833396, 6.98078313,\n",
      "       7.59385684, 7.71516161, 7.46966721, 7.77394491, 5.30902899,\n",
      "       7.31258926, 7.05767059, 7.03969805, 6.15914774, 6.63192082,\n",
      "       6.75167254, 7.95782627, 6.91573708, 5.94300991, 6.41880247])\n"
     ]
    }
   ],
   "source": [
    "y_hat = X_with_icept[:, 0] * est_betas[0] + X_with_icept[:, 1] * est_betas[1]\n",
    "print('The predicted y-values are: \\n\\n%r' % y_hat)"
   ]
  },
  {
   "cell_type": "markdown",
   "metadata": {},
   "source": [
    "Now, let's plot the predicted $y$ values ($\\hat{y}$) against the true $y$ values ($y$)."
   ]
  },
  {
   "cell_type": "code",
   "execution_count": 14,
   "metadata": {},
   "outputs": [
    {
     "data": {
      "image/png": "[encoded data removed]",
      "text/plain": [
       "<Figure size 720x720 with 1 Axes>"
      ]
     },
     "metadata": {
      "needs_background": "light"
     },
     "output_type": "display_data"
    }
   ],
   "source": [
    "plt.figure(figsize=(10, 10))\n",
    "plt.scatter(X, y)\n",
    "plt.xlabel('X', fontsize=25)\n",
    "plt.ylabel('y', fontsize=25)\n",
    "x_lim = (0, 5)\n",
    "plt.xlim(x_lim)\n",
    "plt.ylim((0, 10))\n",
    "y_hat = X_with_icept @ est_betas # using the matrix algebra approach!\n",
    "plt.scatter(X, y_hat, c='tab:orange')\n",
    "plt.legend(['True y', 'Predicted y'])\n",
    "plt.grid()\n",
    "plt.show()"
   ]
  },
  {
   "cell_type": "markdown",
   "metadata": {},
   "source": [
    "Actually, let's just plot the predicted y-values as a line (effectively interpolating between adjacent predictions) - this gives us the linear regression plot as you've probably seen many times in your statistics classes!"
   ]
  },
  {
   "cell_type": "code",
   "execution_count": 15,
   "metadata": {},
   "outputs": [
    {
     "data": {
      "image/png": "[encoded data removed]",
      "text/plain": [
       "<Figure size 720x720 with 1 Axes>"
      ]
     },
     "metadata": {
      "needs_background": "light"
     },
     "output_type": "display_data"
    }
   ],
   "source": [
    "plt.figure(figsize=(10, 10))\n",
    "plt.scatter(X, y)\n",
    "plt.xlabel('X', fontsize=25)\n",
    "plt.ylabel('y', fontsize=25)\n",
    "plt.xlim(x_lim)\n",
    "plt.ylim((0, 10))\n",
    "y_min_pred = est_betas[0] + est_betas[1] * x_lim[0]\n",
    "y_max_pred = est_betas[0] + est_betas[1] * x_lim[1]\n",
    "plt.plot(x_lim, [y_min_pred, y_max_pred], ls='-', c='tab:orange', lw=3)\n",
    "plt.legend(['Predicted y', 'True y'])\n",
    "plt.title('Linear regression of X onto y')\n",
    "plt.grid()\n",
    "plt.show()"
   ]
  },
  {
   "cell_type": "markdown",
   "metadata": {},
   "source": [
    "### Residuals and model fit\n",
    "Alright, so now we have established the beta-values that lead to the best prediction of $y$ - in other words, the best fit of our model. But how do we quantify the fit of our model? One way is to look at the difference between $\\hat{y}$ and y, which is often referred to as the model's **residuals**. This difference between $\\hat{y}$ and $y$ - the residuals - is the exact same thing as the $\\epsilon$ in the linear regression model, i.e. the **error** of the model. Thus, for a particular dependent variable $y$, the residuals ($\\epsilon$) of a particular fitted model with parameters $\\hat{\\beta}$ are computed as: \n",
    "\n",
    "\\begin{align}\n",
    "\\epsilon = y - \\mathbf{X}\\hat{\\beta} \n",
    "\\end{align}\n",
    "\n",
    "To visualize the residuals (plotted as red dashed lines):"
   ]
  },
  {
   "cell_type": "code",
   "execution_count": 16,
   "metadata": {},
   "outputs": [
    {
     "data": {
      "image/png": "[encoded data removed]",
      "text/plain": [
       "<Figure size 720x720 with 1 Axes>"
      ]
     },
     "metadata": {
      "needs_background": "light"
     },
     "output_type": "display_data"
    }
   ],
   "source": [
    "plt.figure(figsize=(10, 10))\n",
    "plt.scatter(X, y)\n",
    "plt.xlabel('X')\n",
    "plt.ylabel('y')\n",
    "plt.xlim(x_lim)\n",
    "plt.ylim((0, 10))\n",
    "y_min_pred = est_betas[0] + est_betas[1] * x_lim[0]\n",
    "y_max_pred = est_betas[0] + est_betas[1] * x_lim[1]\n",
    "plt.plot(x_lim, [y_min_pred, y_max_pred], ls='-', c='orange', lw=3)\n",
    "plt.title('Linear regression of X onto y')\n",
    "\n",
    "for i in range(y.size):\n",
    "    plt.plot((X[i], X[i]), (y_hat[i], y[i]), linestyle='--', c='red', lw=2)\n",
    "\n",
    "\n",
    "from matplotlib.lines import Line2D\n",
    "custom_lines = [\n",
    "    Line2D([0], [0], color='tab:blue', marker='o', ls='None', lw=2),\n",
    "    Line2D([0], [0], color='tab:orange', lw=2),\n",
    "    Line2D([0], [0], color='r', ls='--', lw=2)\n",
    "]\n",
    "\n",
    "plt.legend(custom_lines, ['True y', 'Predicted y', 'Residuals'])\n",
    "plt.grid()\n",
    "plt.show()"
   ]
  },
  {
   "cell_type": "markdown",
   "metadata": {},
   "source": [
    "In fact, the model fit is often summarized as the **mean of the squared residuals** (also called the 'mean squared error' or MSE), which is thus simply the (length of the) red lines squared and averaged. In other words, the MSE refers to the average squared difference between our predicted $y$ and the true $y$\\*:\n",
    "\n",
    "\\begin{align}\n",
    "\\mathrm{MSE} = \\frac{1}{N}\\sum_{i=1}^{N} (y_{i} - \\hat{y}_{i})^2\n",
    "\\end{align}\n",
    "\n",
    "\\* The \"$\\frac{1}{N}\\sum_{i=1}^{N}$\" is just a different (but equally correct) way of writing \"the average of all residuals from sample 1 to sample N\"."
   ]
  },
  {
   "cell_type": "markdown",
   "metadata": {},
   "source": [
    "<div class='alert alert-warning'>\n",
    "    <b>ToDo3</b>: Calculate the MSE for our previous model predictions (<tt>y_hat</tt>) based on our linear regression model predicting <tt>y</tt> from <tt>X_with_intercept</tt>. <em>Do not use a for-loop for this.</em> You know how to do this without a loop, using vectorized numpy array operations. Store the result in a variable named <tt>mse</tt>. (Solution at the end of the notebook).\n",
    "</div>"
   ]
  },
  {
   "cell_type": "code",
   "execution_count": 19,
   "metadata": {
    "nbgrader": {
     "grade": false,
     "grade_id": "cell-534d470bbac52f30",
     "locked": false,
     "schema_version": 3,
     "solution": true
    }
   },
   "outputs": [
    {
     "name": "stdout",
     "output_type": "stream",
     "text": [
      "0.3837095525610668\n"
     ]
    }
   ],
   "source": [
    "\n",
    "# INSERT SOLUTION FOR ToDo3 HERE\n",
    "\n",
    "\n",
    "#We will reuse the variable name y later, so in if you need to go to the solutions section, we will rename the variable name\n",
    "y_old=y.copy()\n",
    "\n",
    "mse = ((y_old-y_hat)**2).mean()\n",
    "print(mse)\n",
    "# in the solutions they use np.mean()"
   ]
  },
  {
   "cell_type": "markdown",
   "metadata": {},
   "source": [
    "Another metric for model fit in linear regression is \"R-squared\" ($R²$). R-squared is calculated as follows:\n",
    "\n",
    "\\begin{align}\n",
    "R^2 = 1 - \\frac{\\sum_{i=1}^{N}(y_{i} - \\hat{y}_{i})^2}{\\sum_{i=1}^{N}(y_{i} - \\bar{y})^2}\n",
    "\\end{align}\n",
    "\n",
    "where $\\bar{y}$ represents the mean of $y$. As you can see, the formula for R-squared consists of two parts: the numerator ($\\sum_{i=1}^{N}(y_{i} - \\hat{y}_{i})^2$) and the denominator ($\\sum_{i=1}^{N}(y_{i} - \\bar{y}_{i})^2$). The denominator represents the *total* amount of squared error of the actual values ($y$) relative to the mean ($\\bar{y}$). The numerator represents the *reduced* squared errors when incorporating knowledge from our (weighted) independent variables ($X_{i}\\hat{\\beta}$). So, in a way you can interpret R-squared as *how much better my model is including `X` versus a model that only uses the mean*. Another conventional interpretation of R-squared is the proportion of variance our predictors ($X$) together can explain of our target ($y$).\n",
    "\n",
    "As expected, the code is quite straightforward:"
   ]
  },
  {
   "cell_type": "code",
   "execution_count": 17,
   "metadata": {},
   "outputs": [
    {
     "name": "stdout",
     "output_type": "stream",
     "text": [
      "The R² value is: 0.549\n"
     ]
    }
   ],
   "source": [
    "\n",
    "#Calculate the residual sum of squares (difference from predicted value)\n",
    "RSS = np.sum((y - y_hat) ** 2)  # remember, y_hat equals X * beta\n",
    "#Calculate the total sum of squares (difference from mean)\n",
    "TSS = np.sum((y - np.mean(y)) ** 2)\n",
    "# R-squared is the proportion of the variance explained by the model (i.e. 1 minus the variance not explained)\n",
    "r_squared = 1 - RSS / TSS\n",
    "\n",
    "print('The R² value is: %.3f' % r_squared)"
   ]
  },
  {
   "cell_type": "markdown",
   "metadata": {},
   "source": [
    "<div class='alert alert-warning'>\n",
    "    <b>ToDo4</b>: Below, we've defined a design matrix (<tt>X_test</tt>, including an intercept) and a dependent variable (<tt>y_test</tt>). Run a linear regression model and calculate R-squared. Store the R-squared value (which should be a single number, a float) in a variable named <tt>r_squared_test</tt>.\n",
    "</div>"
   ]
  },
  {
   "cell_type": "code",
   "execution_count": 45,
   "metadata": {},
   "outputs": [
    {
     "name": "stdout",
     "output_type": "stream",
     "text": [
      "The R^2 value is: 0.363245\n"
     ]
    }
   ],
   "source": [
    "#Load data\n",
    "data_tmp = np.load('data/data_todo_rsquared.npz')\n",
    "X_test, y_test = data_tmp['X'], data_tmp['y']\n",
    "\n",
    "### INSERT SOLUTION HERE (see end of notebook)\n",
    "# estimate betas\n",
    "b_test = inv(X_test.T @ X_test) @ X_test.T @ y_test\n",
    "\n",
    "# calculate y hat\n",
    "y_hat_test = X_test @ b_test\n",
    "\n",
    "# calculate R-squared\n",
    "# residual sum of squares\n",
    "rss_test = np.sum((y_test - y_hat_test) **2)\n",
    "\n",
    "# total sum om squares\n",
    "tss_test = np.sum((y_test - np.mean(y_test))**2)\n",
    "\n",
    "# R-squared\n",
    "r_sq_test = 1 - rss_test/tss_test\n",
    "\n",
    "print('The R^2 value is: %3f' % r_sq_test)"
   ]
  },
  {
   "cell_type": "markdown",
   "metadata": {},
   "source": [
    "<div class='alert alert-info'>\n",
    "<b>ToThink1</b>: As discussed earlier, it's important to model the intercept in regression models. This is because it often greatly <em>improves model fit</em>! In this ToThink, you have to explain <em>why</em> modelling the intercept (usually) improves model fit. \n",
    "\n",
    "To give you some clues, we re-did the linear regression computation from above, but now without the intercept in the design matrix. We plotted the data (<tt>X_no_icept</tt>, <tt>y</tt>) and the model fit to get some intuition about the use of an intercept in models. \n",
    "\n",
    "In the text-cell below the plot, explain (concisely!) why modelling the intercept (usually) improves model fit (this is manually graded, so no test-cell). (see end of the notebook for an answer).\n",
    "</div>"
   ]
  },
  {
   "cell_type": "code",
   "execution_count": 19,
   "metadata": {
    "scrolled": false
   },
   "outputs": [
    {
     "data": {
      "image/png": "[encoded data removed]",
      "text/plain": [
       "<Figure size 720x720 with 1 Axes>"
      ]
     },
     "metadata": {
      "needs_background": "light"
     },
     "output_type": "display_data"
    }
   ],
   "source": [
    "X_no_icept = X_with_icept[:, 1, np.newaxis]\n",
    "beta_no_icept = inv(X_no_icept.T @ X_no_icept) @ X_no_icept.T @ y\n",
    "y_hat_no_icept = beta_no_icept * X_no_icept\n",
    "\n",
    "plt.figure(figsize=(10, 10))\n",
    "plt.scatter(X, y, zorder=2)\n",
    "plt.xlabel('X', fontsize=25)\n",
    "plt.ylabel('y', fontsize=25)\n",
    "plt.xlim((0, 5))\n",
    "plt.ylim((0, 10))\n",
    "y_min_pred = beta_no_icept[0] * x_lim[0]\n",
    "y_max_pred = beta_no_icept[0] * x_lim[1]\n",
    "plt.plot(x_lim, [y_min_pred, y_max_pred], ls='-', c='orange')\n",
    "plt.grid()\n",
    "plt.title('Linear regression of X (without intercept!) onto y', fontsize=20)\n",
    "\n",
    "for i in range(y.size):\n",
    "    plt.plot((X[i], X[i]), (y_hat_no_icept[i], y[i]), 'r--', lw=2, zorder=1)\n",
    "\n",
    "plt.legend(custom_lines, ['True y', 'Predicted y', 'Residuals'])\n",
    "plt.show()"
   ]
  },
  {
   "cell_type": "markdown",
   "metadata": {
    "nbgrader": {
     "grade": true,
     "grade_id": "cell-43ceb28b46b3b2a4",
     "locked": false,
     "points": 1,
     "schema_version": 3,
     "solution": true
    }
   },
   "source": [
    "\n",
    "Write your answer for ToThink1 here:"
   ]
  },
  {
   "cell_type": "markdown",
   "metadata": {},
   "source": [
    "### Summary: linear regression\n",
    "Alright, hopefully this short recap on linear regression has refreshed your knowledge and understanding of important concepts such as predictors/design matrix ($X$), target ($y$), least squares, beta-parameters, intercept, $\\hat{y}$, residuals, MSE, and $R^2$. \n",
    "\n",
    "In sum, for a linear regression analysis you need some predictors ($X$) to model some target ($y$). You perform ordinary least squares to find the beta-parameters that minimize the sum of squared residuals. To assess model fit, you can look at the mean squared error (average mis-prediction) or $R^2$ (total explained variance).\n",
    "\n",
    "If you understand the above sentence, you're good to go! Before we go on to the real interesting stuff (modelling fMRI data with linear regression), let's test how well you understand linear regression so far."
   ]
  },
  {
   "cell_type": "markdown",
   "metadata": {},
   "source": [
    "<div class='alert alert-warning'>\n",
    "<b>ToDo5</b>:\n",
    "    \n",
    "Now, you're going to implement your own linear regression on a new set of variables, but with a twist: you're going to use 5 predictors this time - we've generated the data for you already. You'll notice that the code isn't much different from when you'd implement linear regression for just a single predictor (+ intercept). In the end, you should have calculated MSE and $R^2$, which should be stored in variables named <tt>mse_todo</tt> and <tt>r2_todo</tt> respectively.\n",
    "\n",
    "*Note, though, that it **isn't** possible to plot the data (either X, y, or y_hat) because we have more than one predictor now; X is 5-dimensional (6-dimensional if you include the intercept) - and it's impossible to plot data in 5 dimensions!*\n",
    "\n",
    "To give you some handles on how to approach the problem, you can follow these steps:\n",
    "\n",
    "1. Check the shape of your data: is the shape of X <tt>(N, P)</tt>? is the shape of y <tt>(N, 1)</tt>?\n",
    "2. Add an intercept to the model, use: <tt>np.hstack</tt>;\n",
    "3. Calculate the beta-parameters using the formula you learned about earlier;\n",
    "4. Evaluate the model fit by calculating the MSE and R-squared;\n",
    "</div>"
   ]
  },
  {
   "cell_type": "code",
   "execution_count": 72,
   "metadata": {},
   "outputs": [],
   "source": [
    "# Here, we load the data\n",
    "data = np.load('data/ToDo.npz')\n",
    "X, y = data['X'], data['y']"
   ]
  },
  {
   "cell_type": "code",
   "execution_count": 48,
   "metadata": {
    "nbgrader": {
     "grade": false,
     "grade_id": "cell-d88aff30bb2fb99d",
     "locked": false,
     "schema_version": 3,
     "solution": true
    }
   },
   "outputs": [
    {
     "data": {
      "text/plain": [
       "(1000, 1)"
      ]
     },
     "execution_count": 48,
     "metadata": {},
     "output_type": "execute_result"
    }
   ],
   "source": [
    "# 1. Check the shape of X and y\n",
    "\n",
    "### BEGIN SOLUTION\n",
    "X.shape\n",
    "y.shape"
   ]
  },
  {
   "cell_type": "code",
   "execution_count": 53,
   "metadata": {
    "nbgrader": {
     "grade": false,
     "grade_id": "cell-e02db27cc512640b",
     "locked": false,
     "schema_version": 3,
     "solution": true
    }
   },
   "outputs": [
    {
     "data": {
      "text/plain": [
       "(1000, 6)"
      ]
     },
     "execution_count": 53,
     "metadata": {},
     "output_type": "execute_result"
    }
   ],
   "source": [
    "# 2. Add the intercept (perhaps define N first, so that your code will be more clear?) using np.hstack()\n",
    "\n",
    "### BEGIN SOLUTION\n",
    "n_obs = y.size\n",
    "intercept = np.ones((n_obs, 1))  # creates intercept of shape (N, 1)\n",
    "tuple_with_arrays = (intercept, X)\n",
    "X_with_int = np.hstack(tuple_with_arrays)"
   ]
  },
  {
   "cell_type": "code",
   "execution_count": 84,
   "metadata": {
    "nbgrader": {
     "grade": false,
     "grade_id": "cell-313a0b82249b1339",
     "locked": false,
     "schema_version": 3,
     "solution": true
    }
   },
   "outputs": [
    {
     "name": "stdout",
     "output_type": "stream",
     "text": [
      "[[ 6.66694315]\n",
      " [-0.01159282]\n",
      " [-0.25573929]\n",
      " [ 0.47342146]\n",
      " [ 0.21746357]\n",
      " [ 0.12759367]]\n"
     ]
    }
   ],
   "source": [
    "# 3. Calculate the betas using the formula you know\n",
    "\n",
    "### BEGIN SOLUTION\n",
    "betas = inv(X_with_int.T @ X_with_int) @ X_with_int.T @ y \n",
    "\n",
    "print(betas)"
   ]
  },
  {
   "cell_type": "code",
   "execution_count": 86,
   "metadata": {
    "nbgrader": {
     "grade": false,
     "grade_id": "cell-ca51c941cd8d72b9",
     "locked": false,
     "schema_version": 3,
     "solution": true
    }
   },
   "outputs": [
    {
     "name": "stdout",
     "output_type": "stream",
     "text": [
      "The MSE is: 0.656335\n"
     ]
    }
   ],
   "source": [
    "# 4. Calculate the MSE (store it in a variable named mse_todo)\n",
    "\n",
    "### BEGIN SOLUTION\n",
    "# calculate y hat\n",
    "y_hat = X_with_int @ betas\n",
    "\n",
    "# mse\n",
    "mse_todo = np.mean((y - y_hat)**2)\n",
    "print(\"The MSE is: %3f\" % mse_todo)\n"
   ]
  },
  {
   "cell_type": "code",
   "execution_count": 87,
   "metadata": {
    "nbgrader": {
     "grade": false,
     "grade_id": "cell-678de257a9e9a522",
     "locked": false,
     "schema_version": 3,
     "solution": true
    }
   },
   "outputs": [
    {
     "name": "stdout",
     "output_type": "stream",
     "text": [
      "The R-squared is: 0.340934\n"
     ]
    }
   ],
   "source": [
    "# 5. Calculate R-squared  (store it in a variable named r2_todo)\n",
    "\n",
    "### BEGIN SOLUTION\n",
    "\n",
    "# RSS\n",
    "rss = np.sum((y-y_hat)**2)\n",
    "\n",
    "# TSS\n",
    "tss = np.sum((y-np.mean(y))**2)\n",
    "\n",
    "r_sq = 1 - rss/tss\n",
    "\n",
    "print(\"The R-squared is: %3f\" % r_sq)"
   ]
  },
  {
   "cell_type": "markdown",
   "metadata": {},
   "source": [
    "<div class='alert alert-info'>\n",
    "<b>ToThink2</b>: Let's check whether you understand what a particular beta-parameter means.\n",
    "\n",
    "- Some of the betas are negative (i.e., $\\hat{\\beta}< 0$); what does this tell you about the effect of that particular condition/predictor? (.5 point; first text-cell)\n",
    "- The intercept-parameter (i.e., $\\beta_{0}$) should be about 6.6. What does this value tell us about the signal?\n",
    "\n",
    "Write your answers in the text-cell below.\n",
    "</div>"
   ]
  },
  {
   "cell_type": "markdown",
   "metadata": {},
   "source": [
    "ToThink2:"
   ]
  },
  {
   "cell_type": "markdown",
   "metadata": {},
   "source": [
    "If you've finished the ToDo exercise and you're confident that you understand linear regression, you're ready to start with the fun part: applying the GLM to fMRI data!"
   ]
  },
  {
   "cell_type": "markdown",
   "metadata": {},
   "source": [
    "## SOLUTIONS"
   ]
  },
  {
   "cell_type": "markdown",
   "metadata": {},
   "source": [
    "<div class='alert alert-warning'>\n",
    "    <b>Solution for ToDo1</b>:\n",
    "</div>"
   ]
  },
  {
   "cell_type": "code",
   "execution_count": 26,
   "metadata": {},
   "outputs": [],
   "source": [
    "\"\"\" Solution for ToDo 1 below. \"\"\"\n",
    "\n",
    "# 1) create a variable\n",
    "np.random.seed(42)\n",
    "arr = np.random.normal(0, 1, size=(100, 25))\n",
    "\n",
    "# 2+3) calculate mean and store with variable name\n",
    "mean_predictor_4 = np.mean(arr[:, 3])\n",
    "### END SOLUTION"
   ]
  },
  {
   "cell_type": "markdown",
   "metadata": {},
   "source": [
    "<div class='alert alert-warning'>\n",
    "    <b>Solution for ToDo2</b>:\n",
    "</div>"
   ]
  },
  {
   "cell_type": "code",
   "execution_count": 27,
   "metadata": {
    "nbgrader": {
     "grade": false,
     "grade_id": "cell-2198797049cfec1b",
     "locked": false,
     "schema_version": 3,
     "solution": true
    }
   },
   "outputs": [],
   "source": [
    "# Just generate some random normal data with mean 0, std 1, and shape 100x2 (NxP)\n",
    "this_X = np.random.normal(0, 1, (100, 2))\n",
    "these_betas = np.array([5, 3])\n",
    "\n",
    "#SOLUTION:\n",
    "this_y_hat = this_X[:, 0] * these_betas[0] + this_X[:, 1] * these_betas[1]\n"
   ]
  },
  {
   "cell_type": "markdown",
   "metadata": {},
   "source": [
    "<div class='alert alert-warning'>\n",
    "    <b>Solution for ToDo3</b>:\n",
    "</div>"
   ]
  },
  {
   "cell_type": "code",
   "execution_count": 21,
   "metadata": {
    "nbgrader": {
     "grade": false,
     "grade_id": "cell-534d470bbac52f30",
     "locked": false,
     "schema_version": 3,
     "solution": true
    },
    "scrolled": true
   },
   "outputs": [
    {
     "data": {
      "text/plain": [
       "0.3837095525610668"
      ]
     },
     "execution_count": 21,
     "metadata": {},
     "output_type": "execute_result"
    }
   ],
   "source": [
    "\"\"\" Solution for ToDo 3 below. \"\"\"\n",
    "\n",
    "#This is the solution\n",
    "#mse = np.mean((y - y_hat) ** 2)\n",
    "\n",
    "#We have reused the variable name y, so in order for it to run here, we changed the variable name\n",
    "mse = np.mean((y_old - y_hat) ** 2)\n",
    "mse"
   ]
  },
  {
   "cell_type": "markdown",
   "metadata": {},
   "source": [
    "<div class='alert alert-warning'>\n",
    "    <b>Solution for ToDo4</b>:\n",
    "</div>"
   ]
  },
  {
   "cell_type": "code",
   "execution_count": 29,
   "metadata": {},
   "outputs": [
    {
     "name": "stdout",
     "output_type": "stream",
     "text": [
      "The R² value is: 0.363\n"
     ]
    }
   ],
   "source": [
    "#Load data\n",
    "data_tmp = np.load('data/data_todo_rsquared.npz')\n",
    "X_test, y_test = data_tmp['X'], data_tmp['y']\n",
    "\n",
    "### SOLUTION FOR ToDo4\n",
    "b = inv(X_test.T @ X_test) @ X_test.T @ y_test\n",
    "RSS = np.sum((y_test - X_test.dot(b)) ** 2)\n",
    "TSS = np.sum((y_test - y_test.mean()) ** 2)\n",
    "r_squared_test = 1 - (RSS / TSS)\n",
    "print('The R² value is: %.3f' % r_squared_test)"
   ]
  },
  {
   "cell_type": "markdown",
   "metadata": {},
   "source": [
    "<div class='alert alert-warning'>\n",
    "    <b>Solution for ToDo5</b>:\n",
    "</div>"
   ]
  },
  {
   "cell_type": "code",
   "execution_count": 73,
   "metadata": {},
   "outputs": [],
   "source": [
    "# Here, we load the data\n",
    "data = np.load('data/ToDo.npz')\n",
    "X, y = data['X'], data['y']"
   ]
  },
  {
   "cell_type": "code",
   "execution_count": 74,
   "metadata": {
    "nbgrader": {
     "grade": false,
     "grade_id": "cell-d88aff30bb2fb99d",
     "locked": false,
     "schema_version": 3,
     "solution": true
    }
   },
   "outputs": [
    {
     "name": "stdout",
     "output_type": "stream",
     "text": [
      "(1000, 5)\n",
      "(1000, 1)\n"
     ]
    }
   ],
   "source": [
    "# 1. Check the shape of X and y\n",
    "\n",
    "### BEGIN SOLUTION\n",
    "print(X.shape)\n",
    "print(y.shape)\n",
    "### END SOLUTION"
   ]
  },
  {
   "cell_type": "code",
   "execution_count": 82,
   "metadata": {
    "nbgrader": {
     "grade": false,
     "grade_id": "cell-e02db27cc512640b",
     "locked": false,
     "schema_version": 3,
     "solution": true
    }
   },
   "outputs": [
    {
     "name": "stdout",
     "output_type": "stream",
     "text": [
      "(1000, 6)\n"
     ]
    }
   ],
   "source": [
    "# 2. Add the intercept (perhaps define N first, so that your code will be more clear?) using np.hstack()\n",
    "\n",
    "### BEGIN SOLUTION\n",
    "X_new = np.hstack((np.ones((1000, 1)), X))\n",
    "### END SOLUTION\n",
    "print(X_new.shape)"
   ]
  },
  {
   "cell_type": "code",
   "execution_count": 83,
   "metadata": {
    "nbgrader": {
     "grade": false,
     "grade_id": "cell-313a0b82249b1339",
     "locked": false,
     "schema_version": 3,
     "solution": true
    }
   },
   "outputs": [
    {
     "name": "stdout",
     "output_type": "stream",
     "text": [
      "[[ 6.66694315]\n",
      " [-0.01159282]\n",
      " [-0.25573929]\n",
      " [ 0.47342146]\n",
      " [ 0.21746357]\n",
      " [ 0.12759367]]\n"
     ]
    }
   ],
   "source": [
    "# 3. Calculate the betas using the formula you know\n",
    "\n",
    "### BEGIN SOLUTION\n",
    "betas = inv(X_new.T @ X_new) @ X_new.T @ y\n",
    "### END SOLUTION\n",
    "print(betas)"
   ]
  },
  {
   "cell_type": "code",
   "execution_count": 78,
   "metadata": {
    "nbgrader": {
     "grade": false,
     "grade_id": "cell-ca51c941cd8d72b9",
     "locked": false,
     "schema_version": 3,
     "solution": true
    }
   },
   "outputs": [
    {
     "name": "stdout",
     "output_type": "stream",
     "text": [
      "0.65633474948831\n"
     ]
    }
   ],
   "source": [
    "# 4. Calculate the MSE (store it in a variable named mse_todo)\n",
    "\n",
    "### BEGIN SOLUTION\n",
    "y_hat = X_new @ betas\n",
    "mse_todo = np.mean((y - y_hat) ** 2)\n",
    "print(mse_todo)\n",
    "### END SOLUTION"
   ]
  },
  {
   "cell_type": "code",
   "execution_count": 79,
   "metadata": {
    "nbgrader": {
     "grade": false,
     "grade_id": "cell-678de257a9e9a522",
     "locked": false,
     "schema_version": 3,
     "solution": true
    }
   },
   "outputs": [
    {
     "name": "stdout",
     "output_type": "stream",
     "text": [
      "The R² value is: 0.341\n"
     ]
    }
   ],
   "source": [
    "# 5. Calculate R-squared  (store it in a variable named r2_todo)\n",
    "\n",
    "### BEGIN SOLUTION\n",
    "r2_todo = 1 - (np.sum((y_hat - y) ** 2) / np.sum((y.mean() - y) ** 2))\n",
    "print('The R² value is: %.3f' % r2_todo)\n",
    "### END SOLUTION"
   ]
  },
  {
   "cell_type": "markdown",
   "metadata": {
    "nbgrader": {
     "grade": true,
     "grade_id": "cell-43ceb28b46b3b2a4",
     "locked": false,
     "points": 1,
     "schema_version": 3,
     "solution": true
    }
   },
   "source": [
    "\n",
    "A model without an intercept is \"forced\" to draw its line through the origin (0, 0), failing to explain much of the variance of targets (potential $y$ vectors) that have an offset/scale that is clearly far from 0 (which should be clear from the plot.)"
   ]
  },
  {
   "cell_type": "markdown",
   "metadata": {},
   "source": [
    "<div class='alert alert-info'>\n",
    "<b>Solution for ToThink2</b>: Let's check whether you understand what a particular beta-parameter means.\n",
    "\n",
    "- Some of the betas are negative (i.e., $\\hat{\\beta}< 0$); what does this tell you about the effect of that particular condition/predictor? (.5 point; first text-cell)\n",
    "- The intercept-parameter (i.e., $\\beta_{0}$) should be about 6.6. What does this value tell us about the signal?\n",
    "\n",
    "Write your answers in the two text-cells below.\n",
    "</div>"
   ]
  },
  {
   "cell_type": "markdown",
   "metadata": {
    "nbgrader": {
     "grade": true,
     "grade_id": "cell-af5b5c3207473231",
     "locked": false,
     "points": 0.5,
     "schema_version": 3,
     "solution": true
    }
   },
   "source": [
    "Negative betas simply state that an increase in particular predictor leads to a decrease in the target (and vice versa)."
   ]
  },
  {
   "cell_type": "markdown",
   "metadata": {
    "nbgrader": {
     "grade": true,
     "grade_id": "cell-73045c24b787e8b3",
     "locked": false,
     "points": 0.5,
     "schema_version": 3,
     "solution": true
    }
   },
   "source": [
    "The intercept-parameter represents the 'baseline' of the signal, i.e., the average activity when there's no event (stimulus). In other words, it represents the average activity of $y$ when all predictors are held constant ($X_{j} = 0$ for every predictor $j$)."
   ]
  }
 ],
 "metadata": {
  "celltoolbar": "Edit Metadata",
  "kernelspec": {
   "display_name": "Python 3 (ipykernel)",
   "language": "python",
   "name": "python3"
  },
  "language_info": {
   "codemirror_mode": {
    "name": "ipython",
    "version": 3
   },
   "file_extension": ".py",
   "mimetype": "text/x-python",
   "name": "python",
   "nbconvert_exporter": "python",
   "pygments_lexer": "ipython3",
   "version": "3.9.2"
  },
  "toc": {
   "base_numbering": 1,
   "nav_menu": {},
   "number_sections": true,
   "sideBar": true,
   "skip_h1_title": true,
   "title_cell": "Table of Contents",
   "title_sidebar": "Contents",
   "toc_cell": false,
   "toc_position": {},
   "toc_section_display": true,
   "toc_window_display": false
  }
 },
 "nbformat": 4,
 "nbformat_minor": 1
}
